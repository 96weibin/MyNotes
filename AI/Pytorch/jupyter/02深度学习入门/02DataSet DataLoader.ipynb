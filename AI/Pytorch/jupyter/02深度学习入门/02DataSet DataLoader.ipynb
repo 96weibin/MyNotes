{
 "cells": [
  {
   "cell_type": "markdown",
   "id": "f3ab0d7e",
   "metadata": {},
   "source": [
    "# Dataset DataLoader （数据加载与批处理）"
   ]
  },
  {
   "cell_type": "code",
   "execution_count": 8,
   "id": "fc77c500",
   "metadata": {},
   "outputs": [
    {
     "name": "stdout",
     "output_type": "stream",
     "text": [
      "Epoch 10, Loss: 0.2556\n",
      "Epoch 20, Loss: 0.1153\n",
      "Epoch 30, Loss: 0.3487\n",
      "Epoch 40, Loss: 0.0554\n",
      "Epoch 50, Loss: 0.1526\n",
      "Epoch 60, Loss: 0.0349\n",
      "Epoch 70, Loss: 0.0318\n",
      "Epoch 80, Loss: 0.0063\n",
      "Epoch 90, Loss: 0.0456\n",
      "Epoch 100, Loss: 0.0040\n"
     ]
    }
   ],
   "source": [
    "from sklearn.datasets import load_iris\n",
    "from sklearn.model_selection import train_test_split\n",
    "from torch.utils.data import Dataset, DataLoader\n",
    "import torch.optim as optim\n",
    "import torch.nn as nn\n",
    "\n",
    "class MyDataset(Dataset):\n",
    "    def __init__(self, X, y):\n",
    "        self.X = X\n",
    "        self.y = y\n",
    "    def __len__(self):\n",
    "        return len(self.X)\n",
    "    def __getitem__(self, idx):\n",
    "        import torch\n",
    "        return torch.tensor(self.X[idx], dtype=torch.float32), torch.tensor(self.y[idx], dtype=torch.long)\n",
    "\n",
    "class IrisNet(nn.Module):\n",
    "    def __init__(self):\n",
    "        super().__init__()\n",
    "        self.fc1 = nn.Linear(4, 16)\n",
    "        self.relu = nn.ReLU()\n",
    "        self.fc2 = nn.Linear(16, 3)  # 3类\n",
    "\n",
    "    def forward(self, x):\n",
    "        x = self.fc1(x)\n",
    "        x = self.relu(x)\n",
    "        x = self.fc2(x)\n",
    "        return x\n",
    "\n",
    "iris = load_iris()\n",
    "X = iris.data\n",
    "y = iris.target\n",
    "\n",
    "X_train, X_test, y_train, y_test = train_test_split(X, y, test_size=0.2, random_state=42)\n",
    "dataset = MyDataset(X_train, y_train)\n",
    "loader = DataLoader(dataset, batch_size=16, shuffle=True)\n",
    "model = IrisNet()\n",
    "\n",
    "criterion = nn.CrossEntropyLoss()\n",
    "optimizer = optim.Adam(model.parameters(), lr=0.01)\n",
    "loss_list = []\n",
    "\n",
    "num_epochs = 100  # 训练100轮\n",
    "for epoch in range(num_epochs):\n",
    "    for batch_X, batch_y in loader:\n",
    "        optimizer.zero_grad()\n",
    "        outputs = model(batch_X)\n",
    "        loss = criterion(outputs, batch_y)\n",
    "        loss.backward()\n",
    "        optimizer.step()\n",
    "        loss_list.append(loss.item())\n",
    "    if (epoch+1) % 10 == 0:\n",
    "        print(f\"Epoch {epoch+1}, Loss: {loss.item():.4f}\")\n"
   ]
  }
 ],
 "metadata": {
  "kernelspec": {
   "display_name": ".venv",
   "language": "python",
   "name": "python3"
  },
  "language_info": {
   "codemirror_mode": {
    "name": "ipython",
    "version": 3
   },
   "file_extension": ".py",
   "mimetype": "text/x-python",
   "name": "python",
   "nbconvert_exporter": "python",
   "pygments_lexer": "ipython3",
   "version": "3.10.11"
  }
 },
 "nbformat": 4,
 "nbformat_minor": 5
}
