{
 "cells": [
  {
   "cell_type": "code",
   "execution_count": 60,
   "id": "de64a555",
   "metadata": {},
   "outputs": [
    {
     "name": "stdout",
     "output_type": "stream",
     "text": [
      "2.8.0+cpu\n",
      "False\n"
     ]
    }
   ],
   "source": [
    "import torch\n",
    "\n",
    "print(torch.__version__)\n",
    "print(torch.cuda.is_available())  # 查看是否有GPU支持"
   ]
  },
  {
   "cell_type": "code",
   "execution_count": 61,
   "id": "6258a921",
   "metadata": {},
   "outputs": [
    {
     "name": "stdout",
     "output_type": "stream",
     "text": [
      "tensor([[0.6732, 0.6492, 0.8097],\n",
      "        [0.7691, 0.8299, 0.8118],\n",
      "        [0.2115, 0.1807, 0.5480],\n",
      "        [0.7784, 0.2215, 0.0970],\n",
      "        [0.0394, 0.1906, 0.2613]])\n"
     ]
    }
   ],
   "source": [
    "x = torch.rand(5, 3)\n",
    "print(x)\n",
    "\n"
   ]
  },
  {
   "cell_type": "code",
   "execution_count": 62,
   "id": "35da9e12",
   "metadata": {},
   "outputs": [
    {
     "name": "stdout",
     "output_type": "stream",
     "text": [
      "tensor([[0., 0., 0.],\n",
      "        [0., 0., 0.],\n",
      "        [0., 0., 0.],\n",
      "        [0., 0., 0.],\n",
      "        [0., 0., 0.]])\n",
      "tensor([[0.6732, 0.6492, 0.8097],\n",
      "        [0.7691, 0.8299, 0.8118],\n",
      "        [0.2115, 0.1807, 0.5480],\n",
      "        [0.7784, 0.2215, 0.0970],\n",
      "        [0.0394, 0.1906, 0.2613]])\n",
      "torch.Size([5, 3])\n"
     ]
    }
   ],
   "source": [
    "y = torch.zeros(5, 3)\n",
    "print(y)\n",
    "z = x + y\n",
    "print(z)\n",
    "print(x.size())"
   ]
  },
  {
   "cell_type": "code",
   "execution_count": 63,
   "id": "9b45eec6",
   "metadata": {},
   "outputs": [
    {
     "name": "stdout",
     "output_type": "stream",
     "text": [
      "[[1. 1.]\n",
      " [1. 1.]] <class 'numpy.ndarray'>\n",
      "tensor([[1., 1.],\n",
      "        [1., 1.]], dtype=torch.float64) <class 'torch.Tensor'>\n"
     ]
    }
   ],
   "source": [
    "import numpy as np\n",
    "a  = torch.ones(2, 2)\n",
    "b = a.numpy()\n",
    "print(b, type(b))\n",
    "\n",
    "c = np.ones((2, 2))\n",
    "d = torch.from_numpy(c) \n",
    "print(d, type(d))"
   ]
  },
  {
   "cell_type": "code",
   "execution_count": 69,
   "id": "4e9d6711",
   "metadata": {},
   "outputs": [
    {
     "name": "stdout",
     "output_type": "stream",
     "text": [
      "tensor(27., grad_fn=<MeanBackward0>)\n",
      "tensor([[4.5000, 4.5000],\n",
      "        [4.5000, 4.5000]])\n"
     ]
    }
   ],
   "source": [
    "x = torch.ones(2, 2, requires_grad=True)\n",
    "y = x + 2\n",
    "z = y * y * 3\n",
    "out = z.mean()\n",
    "print(out)\n",
    "out.backward()\n",
    "print(x.grad)  # 输出梯度"
   ]
  },
  {
   "cell_type": "code",
   "execution_count": 65,
   "id": "8b0dae21",
   "metadata": {},
   "outputs": [
    {
     "name": "stdout",
     "output_type": "stream",
     "text": [
      "tensor([[0.5500, 0.5500],\n",
      "        [0.5500, 0.5500]], requires_grad=True)\n",
      "tensor(27., grad_fn=<MeanBackward0>)\n"
     ]
    }
   ],
   "source": [
    "learning_rate = 0.1\n",
    "with torch.no_grad():  # 不记录梯度\n",
    "    x -= learning_rate * x.grad  # 用梯度下降法更新x\n",
    "print(x)\n",
    "print(out)\n"
   ]
  },
  {
   "cell_type": "code",
   "execution_count": 72,
   "id": "e5727354",
   "metadata": {},
   "outputs": [
    {
     "name": "stdout",
     "output_type": "stream",
     "text": [
      "Step 1, out = 0.0\n",
      "Step 2, out = 0.0\n",
      "Step 3, out = 0.0\n",
      "Step 4, out = 0.0\n",
      "Step 5, out = 0.0\n"
     ]
    }
   ],
   "source": [
    "for i in range(5):\n",
    "    y = x + 2\n",
    "    z = y * y * 3\n",
    "    out = z.mean()\n",
    "    out.backward()\n",
    "    with torch.no_grad():\n",
    "        x -= learning_rate * x.grad\n",
    "    x.grad.zero_()  # 清空梯度\n",
    "    print(f\"Step {i+1}, out = {round(out.item(),2)}\")"
   ]
  }
 ],
 "metadata": {
  "kernelspec": {
   "display_name": ".venv",
   "language": "python",
   "name": "python3"
  },
  "language_info": {
   "codemirror_mode": {
    "name": "ipython",
    "version": 3
   },
   "file_extension": ".py",
   "mimetype": "text/x-python",
   "name": "python",
   "nbconvert_exporter": "python",
   "pygments_lexer": "ipython3",
   "version": "3.10.11"
  }
 },
 "nbformat": 4,
 "nbformat_minor": 5
}
