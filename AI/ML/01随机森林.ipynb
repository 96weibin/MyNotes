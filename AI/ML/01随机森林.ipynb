{
 "cells": [
  {
   "cell_type": "markdown",
   "metadata": {},
   "source": [
    "# 随机森林\n",
    "\n",
    "\n",
    "| 方法 | 功能 |\n",
    "-|-\n",
    "read_cvs()| 读取数据\n",
    "train_test_split()| 分割得到 X_t,X_v, Y_t, Y_v\n",
    "RandomForestRegressor()| 创建model\n",
    "mean_absolute_error(t, v) | 评估model好坏\n",
    "model.fit(X_t, y_t) | fit\n",
    "model.predict(X_v) | 通过 X_v 预测 得到 Y_v\n",
    "\n"
   ]
  },
  {
   "cell_type": "code",
   "execution_count": 23,
   "metadata": {},
   "outputs": [],
   "source": [
    "import pandas as pd\n",
    "from sklearn.model_selection import train_test_split\n",
    "\n",
    "X_full = pd.read_csv('./data/train.csv')\n",
    "features = ['LotArea', 'YearBuilt', '1stFlrSF', '2ndFlrSF', 'FullBath', 'BedroomAbvGr', 'TotRmsAbvGrd']\n",
    "X = X_full[features].copy()\n",
    "y = X_full['SalePrice']\n",
    "\n",
    "X_train,X_valid,Y_train,Y_valid = train_test_split(X, y, train_size=0.8, test_size=0.2, random_state=0)"
   ]
  },
  {
   "cell_type": "markdown",
   "metadata": {},
   "source": [
    "## 创建不同的随机森林模型"
   ]
  },
  {
   "cell_type": "code",
   "execution_count": 24,
   "metadata": {},
   "outputs": [],
   "source": [
    "from sklearn.ensemble import RandomForestRegressor\n",
    "\n",
    "model_1 = RandomForestRegressor(n_estimators=50, random_state=0)\n",
    "model_2 = RandomForestRegressor(n_estimators=100, random_state=0)\n",
    "model_3 = RandomForestRegressor(n_estimators=100, criterion='absolute_error', random_state=0)\n",
    "model_4 = RandomForestRegressor(n_estimators=200, min_samples_split=20, random_state=0)\n",
    "model_5 = RandomForestRegressor(n_estimators=100, max_depth=7, random_state=0)\n",
    "models = [model_1,model_2,model_3,model_4,model_5]"
   ]
  },
  {
   "cell_type": "markdown",
   "metadata": {},
   "source": [
    "## 模型评估"
   ]
  },
  {
   "cell_type": "code",
   "execution_count": 25,
   "metadata": {},
   "outputs": [
    {
     "name": "stdout",
     "output_type": "stream",
     "text": [
      "model_0 score: 24015\n",
      "model_1 score: 23740\n",
      "model_2 score: 23528\n",
      "model_3 score: 23996\n",
      "model_4 score: 23706\n"
     ]
    }
   ],
   "source": [
    "from sklearn.metrics import mean_absolute_error\n",
    "\n",
    "def score_model(model, X_t = X_train, X_v = X_valid, Y_t = Y_train, Y_v = Y_valid):\n",
    "    model.fit(X_t, Y_t)\n",
    "    p = model.predict(X_v)\n",
    "    return mean_absolute_error(Y_v, p)\n",
    "\n",
    "\n",
    "for i in range(len(models)):\n",
    "    score = score_model(models[i])\n",
    "    print(\"model_%d score: %d\"% (i,score))\n"
   ]
  },
  {
   "cell_type": "markdown",
   "metadata": {},
   "source": [
    "abs error 最小的 model 最好 使用这个model"
   ]
  },
  {
   "cell_type": "code",
   "execution_count": 26,
   "metadata": {},
   "outputs": [],
   "source": [
    "X_full_test = pd.read_csv('./data/test.csv')\n",
    "X_test = X_full_test[features].copy()\n",
    "\n",
    "model_3.fit(X, y)\n",
    "pred_test = model_3.predict(X_test)\n",
    "output = pd.DataFrame({\"id\": X_test.index, \"SalePrice\": pred_test})\n",
    "output.to_csv('./output/abc.csv')"
   ]
  }
 ],
 "metadata": {
  "kernelspec": {
   "display_name": "base",
   "language": "python",
   "name": "python3"
  },
  "language_info": {
   "codemirror_mode": {
    "name": "ipython",
    "version": 3
   },
   "file_extension": ".py",
   "mimetype": "text/x-python",
   "name": "python",
   "nbconvert_exporter": "python",
   "pygments_lexer": "ipython3",
   "version": "3.11.7"
  }
 },
 "nbformat": 4,
 "nbformat_minor": 2
}
