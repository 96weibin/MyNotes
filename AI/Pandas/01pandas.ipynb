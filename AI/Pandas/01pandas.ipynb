{
 "cells": [
  {
   "cell_type": "markdown",
   "id": "f15253f1",
   "metadata": {},
   "source": [
    "# Pandas\n",
    "\n",
    "- Series \n",
    "- Data Frame"
   ]
  },
  {
   "cell_type": "markdown",
   "id": "fa5f7fcb",
   "metadata": {},
   "source": [
    "## Series\n",
    "> 一维数组\n",
    "- 创建\n",
    "\n",
    "```py\n",
    "    pd.Series(data=None, index=None, dtype=None, name=None, copy=False, fastpath=False)\n",
    "```"
   ]
  },
  {
   "cell_type": "code",
   "execution_count": 49,
   "id": "ccab6be2-dcff-493f-b1b1-0e7d40cfbb62",
   "metadata": {},
   "outputs": [
    {
     "name": "stdout",
     "output_type": "stream",
     "text": [
      "1        apple\n",
      "6       banana\n",
      "3     penapple\n",
      "11        None\n",
      "5        apple\n",
      "4         None\n",
      "Name: frutes, dtype: object\n"
     ]
    }
   ],
   "source": [
    "import pandas as pd\n",
    "\n",
    "series1 = pd.Series(['apple', 'banana', \"penapple\", None, \"apple\", None], index=[1,6,3,11,5,4], name=\"frutes\" )\n",
    "series2 = pd.Series([4,5,6,7,83,2,23,5,7,3234,23])\n",
    "mapping = {'apple': 'apple juse', 'banana': 'banana ice', 'penapple': \"pen apple\"}\n",
    "print(series1)"
   ]
  },
  {
   "cell_type": "markdown",
   "id": "c5032e2c",
   "metadata": {},
   "source": [
    "### Series 常用方法\n"
   ]
  },
  {
   "cell_type": "code",
   "execution_count": 57,
   "id": "6eaa7d1d-cb16-4223-ba30-c1e18602eab5",
   "metadata": {},
   "outputs": [
    {
     "data": {
      "text/plain": [
       "4      146\n",
       "6       26\n",
       "9     6448\n",
       "10      26\n",
       "dtype: int64"
      ]
     },
     "execution_count": 57,
     "metadata": {},
     "output_type": "execute_result"
    }
   ],
   "source": [
    "series1.index           # 获取索引\n",
    "series1.values          # \n",
    "series1.head(7)         # 前7行 默认 5\n",
    "series1.tail(7)         # 后7行 默认 5\n",
    "series1.dtype           # 数据类型\n",
    "series1.shape           # 行数\n",
    "series1.describe()      # 统计描述 （均值，差值，最小值）\n",
    "series1.isnull()        # 返回新的 布尔 series\n",
    "series1.notnull()       # \n",
    "series1.unique()        # 返回 唯一值的 数组\n",
    "series1.value_counts()  # 唯一值 出现的次数\n",
    "\n",
    "# 遍历处理\n",
    "series1.apply(lambda x: x == \"apple\")   # 除了lambda支持更多的参数\n",
    "series1.map(mapping)                    # 除了 lambda 可以传 mapping\n",
    "\n",
    "# Sort\n",
    "series1.sort_index()                    # 按照index 升序排列\n",
    "series1.sort_values()\n",
    "\n",
    "# 缺值处理\n",
    "series1.dropna()                        # 删除缺失值\n",
    "series1.fillna(\"oringe\")                # 缺值填充\n",
    "series1.replace(\"apple\", \"Iphone\")      # 替换\n",
    "\n",
    "# 累积\n",
    "series2.cumsum()                        # 累加和\n",
    "series2.cummax()                        # 累计最大\n",
    "series2.cummin()                        # 累计最小\n",
    "series2.cumprod()                       # 累乘\n",
    "\n",
    "# 值\n",
    "series2.min()                           # 最小\n",
    "series2.max()                           # 最大\n",
    "series2.sum()                           # 总和\n",
    "\n",
    "# TODO\n",
    "# shift\n",
    "# corr\n",
    "# cov\n",
    "# to_list\n",
    "# to_frame\n",
    "# series1.loc[1]\n",
    "# series1.iloc[1]\n",
    "\n",
    "# del series1[6]                        # 根据索引删除\n",
    "# print(series1)\n",
    "\n",
    "# 运算\n",
    "\n",
    "result = series2 * 2 - 20               # 对每个 value 进行运算\n",
    "result = result[result > 0]             # 过滤\n",
    "\n",
    "result"
   ]
  },
  {
   "cell_type": "markdown",
   "id": "131ea649",
   "metadata": {},
   "source": [
    "## DataFrame\n",
    "> 二维表格 \n",
    "\n",
    "- 创建\n",
    "```py\n",
    "pd.DataFrame(data=None, index=None, columns=None, dtype=None, copy=False)\n",
    "# data :转化为DF 的 字典| 二维数组 |\n",
    "# index: 行索引\n",
    "# columns: 列索引\n",
    "```"
   ]
  },
  {
   "cell_type": "code",
   "execution_count": 74,
   "id": "3660db51",
   "metadata": {},
   "outputs": [
    {
     "data": {
      "text/html": [
       "<div>\n",
       "<style scoped>\n",
       "    .dataframe tbody tr th:only-of-type {\n",
       "        vertical-align: middle;\n",
       "    }\n",
       "\n",
       "    .dataframe tbody tr th {\n",
       "        vertical-align: top;\n",
       "    }\n",
       "\n",
       "    .dataframe thead th {\n",
       "        text-align: right;\n",
       "    }\n",
       "</style>\n",
       "<table border=\"1\" class=\"dataframe\">\n",
       "  <thead>\n",
       "    <tr style=\"text-align: right;\">\n",
       "      <th></th>\n",
       "      <th>name</th>\n",
       "      <th>weight</th>\n",
       "      <th>price</th>\n",
       "      <th>country</th>\n",
       "    </tr>\n",
       "  </thead>\n",
       "  <tbody>\n",
       "    <tr>\n",
       "      <th>5</th>\n",
       "      <td>apple</td>\n",
       "      <td>10</td>\n",
       "      <td>NaN</td>\n",
       "      <td>china</td>\n",
       "    </tr>\n",
       "    <tr>\n",
       "      <th>4</th>\n",
       "      <td>oringe</td>\n",
       "      <td>11</td>\n",
       "      <td>3.0</td>\n",
       "      <td>usa</td>\n",
       "    </tr>\n",
       "    <tr>\n",
       "      <th>9</th>\n",
       "      <td>banana</td>\n",
       "      <td>16</td>\n",
       "      <td>5.0</td>\n",
       "      <td>japen</td>\n",
       "    </tr>\n",
       "  </tbody>\n",
       "</table>\n",
       "</div>"
      ],
      "text/plain": [
       "     name  weight  price country\n",
       "5   apple      10    NaN   china\n",
       "4  oringe      11    3.0     usa\n",
       "9  banana      16    5.0   japen"
      ]
     },
     "execution_count": 74,
     "metadata": {},
     "output_type": "execute_result"
    }
   ],
   "source": [
    "# 字面量 二维数组生成\n",
    "data=[[\"apple\", 10, None, 'china'], [\"oringe\", 11, 3, 'usa'], ['banana', 16, 5, 'japen']]\n",
    "df1 = pd.DataFrame(data, columns=['name', 'weight', 'price', 'country'], index=[5,4,9]) # 也可以自定义  index\n",
    "df1.head()"
   ]
  },
  {
   "cell_type": "markdown",
   "id": "21af17d9",
   "metadata": {},
   "source": [
    "### DataFrame 常用方法"
   ]
  },
  {
   "cell_type": "code",
   "execution_count": null,
   "id": "c9d7c224",
   "metadata": {},
   "outputs": [
    {
     "name": "stdout",
     "output_type": "stream",
     "text": [
      "<class 'pandas.core.frame.DataFrame'>\n",
      "Index: 3 entries, 5 to 9\n",
      "Data columns (total 4 columns):\n",
      " #   Column   Non-Null Count  Dtype  \n",
      "---  ------   --------------  -----  \n",
      " 0   name     3 non-null      object \n",
      " 1   weight   3 non-null      int64  \n",
      " 2   price    2 non-null      float64\n",
      " 3   country  3 non-null      object \n",
      "dtypes: float64(1), int64(1), object(2)\n",
      "memory usage: 120.0+ bytes\n"
     ]
    },
    {
     "data": {
      "text/html": [
       "<div>\n",
       "<style scoped>\n",
       "    .dataframe tbody tr th:only-of-type {\n",
       "        vertical-align: middle;\n",
       "    }\n",
       "\n",
       "    .dataframe tbody tr th {\n",
       "        vertical-align: top;\n",
       "    }\n",
       "\n",
       "    .dataframe thead th {\n",
       "        text-align: right;\n",
       "    }\n",
       "</style>\n",
       "<table border=\"1\" class=\"dataframe\">\n",
       "  <thead>\n",
       "    <tr style=\"text-align: right;\">\n",
       "      <th></th>\n",
       "      <th>name</th>\n",
       "      <th>weight</th>\n",
       "      <th>price</th>\n",
       "      <th>country</th>\n",
       "    </tr>\n",
       "  </thead>\n",
       "  <tbody>\n",
       "    <tr>\n",
       "      <th>4</th>\n",
       "      <td>oringe</td>\n",
       "      <td>11</td>\n",
       "      <td>3.0</td>\n",
       "      <td>usa</td>\n",
       "    </tr>\n",
       "    <tr>\n",
       "      <th>9</th>\n",
       "      <td>banana</td>\n",
       "      <td>16</td>\n",
       "      <td>5.0</td>\n",
       "      <td>japen</td>\n",
       "    </tr>\n",
       "  </tbody>\n",
       "</table>\n",
       "</div>"
      ],
      "text/plain": [
       "     name  weight  price country\n",
       "4  oringe      11    3.0     usa\n",
       "9  banana      16    5.0   japen"
      ]
     },
     "execution_count": 79,
     "metadata": {},
     "output_type": "execute_result"
    }
   ],
   "source": [
    "df1.head()\n",
    "df1.tail(1)\n",
    "df1.info()          # 简要信息\n",
    "df1.describe()      # 统计信息\n",
    "df1.shape           # (行, 列)\n",
    "df1.columns         # 所有column 的list\n",
    "df1.index           \n",
    "df1.dtypes          # coumn 的 数据类型\n",
    "df1.sort_index()    \n",
    "df1.sort_values(by=\"weight\", ascending=False)\n",
    "df1.dropna()        # 删除有缺失的行或列"
   ]
  },
  {
   "cell_type": "code",
   "execution_count": null,
   "id": "b49010e3",
   "metadata": {},
   "outputs": [],
   "source": []
  }
 ],
 "metadata": {
  "kernelspec": {
   "display_name": "base",
   "language": "python",
   "name": "python3"
  },
  "language_info": {
   "codemirror_mode": {
    "name": "ipython",
    "version": 3
   },
   "file_extension": ".py",
   "mimetype": "text/x-python",
   "name": "python",
   "nbconvert_exporter": "python",
   "pygments_lexer": "ipython3",
   "version": "3.12.7"
  }
 },
 "nbformat": 4,
 "nbformat_minor": 5
}
